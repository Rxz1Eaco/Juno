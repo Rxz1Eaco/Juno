{
 "cells": [
  {
   "cell_type": "code",
   "execution_count": 1,
   "metadata": {},
   "outputs": [],
   "source": [
    "import pandas as pd\n",
    "import matplotlib.pyplot as plt\n",
    "import seaborn as sns\n"
   ]
  },
  {
   "cell_type": "markdown",
   "metadata": {},
   "source": [
    "#### Informação\n",
    "Erro:\n",
    "- caminho_dados = \"Database_GerenciamentoVendas\\PCP_GerenciamentoVendas_PrevisoesVendas.csv\"\n",
    "Dados_PrevisaoVendas = pd.read_csv(caminho_dados)\n",
    "- SyntaxWarning: invalid escape sequence '\\P'\n",
    "  caminho_dados = \"Database_GerenciamentoVendas\\PCP_GerenciamentoVendas_PrevisoesVendas.csv\"\n",
    "\n",
    "Solução:\n",
    "Utilize: r\"\" ou (duas barras = \\\\) (no lugar\\)\n",
    "- caminho_dados = \"Database_GerenciamentoVendas\\\\PCP_GerenciamentoVendas_HistoricoVendas.csv\"\n",
    "- caminho_dados = r\"Database_GerenciamentoVendas\\PCP_GerenciamentoVendas_PrevisoesVendas.csv\"\n"
   ]
  },
  {
   "cell_type": "markdown",
   "metadata": {},
   "source": [
    "#### Selecionando o Dataset"
   ]
  },
  {
   "cell_type": "code",
   "execution_count": 3,
   "metadata": {},
   "outputs": [],
   "source": [
    "caminho_dados = \"Database_GerenciamentoVendas\\\\PCP_GerenciamentoVendas_HistoricoVendas.csv\"\n",
    "Dados_HistoricoVendas = pd.read_csv(caminho_dados)"
   ]
  },
  {
   "cell_type": "code",
   "execution_count": null,
   "metadata": {},
   "outputs": [],
   "source": []
  },
  {
   "cell_type": "markdown",
   "metadata": {},
   "source": []
  }
 ],
 "metadata": {
  "kernelspec": {
   "display_name": "Python 3",
   "language": "python",
   "name": "python3"
  },
  "language_info": {
   "codemirror_mode": {
    "name": "ipython",
    "version": 3
   },
   "file_extension": ".py",
   "mimetype": "text/x-python",
   "name": "python",
   "nbconvert_exporter": "python",
   "pygments_lexer": "ipython3",
   "version": "3.12.0"
  }
 },
 "nbformat": 4,
 "nbformat_minor": 2
}
