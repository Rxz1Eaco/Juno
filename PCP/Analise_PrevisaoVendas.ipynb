{
 "cells": [
  {
   "cell_type": "markdown",
   "metadata": {},
   "source": [
    "#### Importando as bibliotecas necessárias"
   ]
  },
  {
   "cell_type": "code",
   "execution_count": 2,
   "metadata": {},
   "outputs": [],
   "source": [
    "import pandas as pd\n",
    "import matplotlib.pyplot as plt\n",
    "import seaborn as sns"
   ]
  },
  {
   "cell_type": "markdown",
   "metadata": {},
   "source": [
    "#### Informação\n",
    "Erro:\n",
    "- caminho_dados = \"Database_GerenciamentoVendas\\PCP_GerenciamentoVendas_PrevisoesVendas.csv\"\n",
    "Dados_PrevisaoVendas = pd.read_csv(caminho_dados)\n",
    "- SyntaxWarning: invalid escape sequence '\\P'\n",
    "  caminho_dados = \"Database_GerenciamentoVendas\\PCP_GerenciamentoVendas_PrevisoesVendas.csv\"\n",
    "\n",
    "Solução:\n",
    "Utilize: r\"\" ou (duas barras = \\\\) (no lugar\\)\n",
    "- caminho_dados = \"Database_GerenciamentoVendas\\\\PCP_GerenciamentoVendas_PrevisoesVendas.csv\"\n",
    "- caminho_dados = r\"Database_GerenciamentoVendas\\PCP_GerenciamentoVendas_PrevisoesVendas.csv\"\n"
   ]
  },
  {
   "cell_type": "code",
   "execution_count": 3,
   "metadata": {},
   "outputs": [],
   "source": [
    "caminho_dados = \"Database_GerenciamentoVendas\\\\PCP_GerenciamentoVendas_PrevisoesVendas.csv\"\n",
    "Dados_PrevisaoVendas = pd.read_csv(caminho_dados)"
   ]
  },
  {
   "cell_type": "markdown",
   "metadata": {},
   "source": [
    "#### Selecionando os 4 primeiros dados do dataset\n",
    "Para uma melhor observação"
   ]
  },
  {
   "cell_type": "code",
   "execution_count": 52,
   "metadata": {},
   "outputs": [
    {
     "data": {
      "text/html": [
       "<div>\n",
       "<style scoped>\n",
       "    .dataframe tbody tr th:only-of-type {\n",
       "        vertical-align: middle;\n",
       "    }\n",
       "\n",
       "    .dataframe tbody tr th {\n",
       "        vertical-align: top;\n",
       "    }\n",
       "\n",
       "    .dataframe thead th {\n",
       "        text-align: right;\n",
       "    }\n",
       "</style>\n",
       "<table border=\"1\" class=\"dataframe\">\n",
       "  <thead>\n",
       "    <tr style=\"text-align: right;\">\n",
       "      <th></th>\n",
       "      <th>IdPrevisao</th>\n",
       "      <th>Produto</th>\n",
       "      <th>QuantidadePrevista</th>\n",
       "      <th>DataPrevista</th>\n",
       "    </tr>\n",
       "  </thead>\n",
       "  <tbody>\n",
       "    <tr>\n",
       "      <th>0</th>\n",
       "      <td>1</td>\n",
       "      <td>ProdutoA</td>\n",
       "      <td>110</td>\n",
       "      <td>2024-01-23</td>\n",
       "    </tr>\n",
       "    <tr>\n",
       "      <th>1</th>\n",
       "      <td>2</td>\n",
       "      <td>ProdutoB</td>\n",
       "      <td>140</td>\n",
       "      <td>2024-01-24</td>\n",
       "    </tr>\n",
       "    <tr>\n",
       "      <th>2</th>\n",
       "      <td>3</td>\n",
       "      <td>ProdutoC</td>\n",
       "      <td>75</td>\n",
       "      <td>2024-01-25</td>\n",
       "    </tr>\n",
       "    <tr>\n",
       "      <th>3</th>\n",
       "      <td>4</td>\n",
       "      <td>ProdutoD</td>\n",
       "      <td>200</td>\n",
       "      <td>2024-01-26</td>\n",
       "    </tr>\n",
       "  </tbody>\n",
       "</table>\n",
       "</div>"
      ],
      "text/plain": [
       "   IdPrevisao   Produto  QuantidadePrevista DataPrevista\n",
       "0           1  ProdutoA                 110   2024-01-23\n",
       "1           2  ProdutoB                 140   2024-01-24\n",
       "2           3  ProdutoC                  75   2024-01-25\n",
       "3           4  ProdutoD                 200   2024-01-26"
      ]
     },
     "execution_count": 52,
     "metadata": {},
     "output_type": "execute_result"
    }
   ],
   "source": [
    "Dados_PrevisaoVendas.head(4)"
   ]
  },
  {
   "cell_type": "markdown",
   "metadata": {},
   "source": [
    "#### Mostrando o total de linhas e colunas"
   ]
  },
  {
   "cell_type": "code",
   "execution_count": 5,
   "metadata": {},
   "outputs": [
    {
     "name": "stdout",
     "output_type": "stream",
     "text": [
      "O Dataset possui um total de 26 linhas e 4 colunas\n"
     ]
    }
   ],
   "source": [
    "linhas, colunas = Dados_PrevisaoVendas.shape\n",
    "print(f\"O Dataset possui um total de {linhas} linhas e {colunas} colunas\")"
   ]
  },
  {
   "cell_type": "code",
   "execution_count": 6,
   "metadata": {},
   "outputs": [
    {
     "data": {
      "text/html": [
       "<div>\n",
       "<style scoped>\n",
       "    .dataframe tbody tr th:only-of-type {\n",
       "        vertical-align: middle;\n",
       "    }\n",
       "\n",
       "    .dataframe tbody tr th {\n",
       "        vertical-align: top;\n",
       "    }\n",
       "\n",
       "    .dataframe thead th {\n",
       "        text-align: right;\n",
       "    }\n",
       "</style>\n",
       "<table border=\"1\" class=\"dataframe\">\n",
       "  <thead>\n",
       "    <tr style=\"text-align: right;\">\n",
       "      <th></th>\n",
       "      <th>IdPrevisao</th>\n",
       "      <th>QuantidadePrevista</th>\n",
       "    </tr>\n",
       "  </thead>\n",
       "  <tbody>\n",
       "    <tr>\n",
       "      <th>count</th>\n",
       "      <td>26.000000</td>\n",
       "      <td>26.000000</td>\n",
       "    </tr>\n",
       "    <tr>\n",
       "      <th>mean</th>\n",
       "      <td>13.500000</td>\n",
       "      <td>139.423077</td>\n",
       "    </tr>\n",
       "    <tr>\n",
       "      <th>std</th>\n",
       "      <td>7.648529</td>\n",
       "      <td>46.050558</td>\n",
       "    </tr>\n",
       "    <tr>\n",
       "      <th>min</th>\n",
       "      <td>1.000000</td>\n",
       "      <td>75.000000</td>\n",
       "    </tr>\n",
       "    <tr>\n",
       "      <th>25%</th>\n",
       "      <td>7.250000</td>\n",
       "      <td>110.000000</td>\n",
       "    </tr>\n",
       "    <tr>\n",
       "      <th>50%</th>\n",
       "      <td>13.500000</td>\n",
       "      <td>125.000000</td>\n",
       "    </tr>\n",
       "    <tr>\n",
       "      <th>75%</th>\n",
       "      <td>19.750000</td>\n",
       "      <td>175.000000</td>\n",
       "    </tr>\n",
       "    <tr>\n",
       "      <th>max</th>\n",
       "      <td>26.000000</td>\n",
       "      <td>240.000000</td>\n",
       "    </tr>\n",
       "  </tbody>\n",
       "</table>\n",
       "</div>"
      ],
      "text/plain": [
       "       IdPrevisao  QuantidadePrevista\n",
       "count   26.000000           26.000000\n",
       "mean    13.500000          139.423077\n",
       "std      7.648529           46.050558\n",
       "min      1.000000           75.000000\n",
       "25%      7.250000          110.000000\n",
       "50%     13.500000          125.000000\n",
       "75%     19.750000          175.000000\n",
       "max     26.000000          240.000000"
      ]
     },
     "execution_count": 6,
     "metadata": {},
     "output_type": "execute_result"
    }
   ],
   "source": [
    "Dados_PrevisaoVendas.describe()"
   ]
  },
  {
   "cell_type": "code",
   "execution_count": 7,
   "metadata": {},
   "outputs": [
    {
     "name": "stdout",
     "output_type": "stream",
     "text": [
      "<class 'pandas.core.frame.DataFrame'>\n",
      "RangeIndex: 26 entries, 0 to 25\n",
      "Data columns (total 4 columns):\n",
      " #   Column              Non-Null Count  Dtype \n",
      "---  ------              --------------  ----- \n",
      " 0   IdPrevisao          26 non-null     int64 \n",
      " 1   Produto             26 non-null     object\n",
      " 2   QuantidadePrevista  26 non-null     int64 \n",
      " 3   DataPrevista        26 non-null     object\n",
      "dtypes: int64(2), object(2)\n",
      "memory usage: 964.0+ bytes\n",
      "==========================================\n",
      "Column = Colunas\n",
      "Dtype = Tipo de dado:\n",
      "int64 = Inteiro\n",
      "object= Varchar\n"
     ]
    }
   ],
   "source": [
    "Dados_PrevisaoVendas.info()\n",
    "print(\"==========================================\")\n",
    "print(f\"Column = Colunas\\n\"\"Dtype = Tipo de dado:\\nint64 = Inteiro\\nobject= Varchar\")"
   ]
  },
  {
   "cell_type": "code",
   "execution_count": 8,
   "metadata": {},
   "outputs": [
    {
     "data": {
      "text/html": [
       "<div>\n",
       "<style scoped>\n",
       "    .dataframe tbody tr th:only-of-type {\n",
       "        vertical-align: middle;\n",
       "    }\n",
       "\n",
       "    .dataframe tbody tr th {\n",
       "        vertical-align: top;\n",
       "    }\n",
       "\n",
       "    .dataframe thead th {\n",
       "        text-align: right;\n",
       "    }\n",
       "</style>\n",
       "<table border=\"1\" class=\"dataframe\">\n",
       "  <thead>\n",
       "    <tr style=\"text-align: right;\">\n",
       "      <th></th>\n",
       "      <th>IdPrevisao</th>\n",
       "      <th>Produto</th>\n",
       "      <th>QuantidadePrevista</th>\n",
       "      <th>DataPrevista</th>\n",
       "    </tr>\n",
       "  </thead>\n",
       "  <tbody>\n",
       "    <tr>\n",
       "      <th>13</th>\n",
       "      <td>14</td>\n",
       "      <td>ProdutoN</td>\n",
       "      <td>240</td>\n",
       "      <td>2024-02-05</td>\n",
       "    </tr>\n",
       "    <tr>\n",
       "      <th>8</th>\n",
       "      <td>9</td>\n",
       "      <td>ProdutoI</td>\n",
       "      <td>220</td>\n",
       "      <td>2024-01-31</td>\n",
       "    </tr>\n",
       "    <tr>\n",
       "      <th>23</th>\n",
       "      <td>24</td>\n",
       "      <td>ProdutoX</td>\n",
       "      <td>200</td>\n",
       "      <td>2024-02-15</td>\n",
       "    </tr>\n",
       "    <tr>\n",
       "      <th>3</th>\n",
       "      <td>4</td>\n",
       "      <td>ProdutoD</td>\n",
       "      <td>200</td>\n",
       "      <td>2024-01-26</td>\n",
       "    </tr>\n",
       "    <tr>\n",
       "      <th>16</th>\n",
       "      <td>17</td>\n",
       "      <td>ProdutoQ</td>\n",
       "      <td>200</td>\n",
       "      <td>2024-02-08</td>\n",
       "    </tr>\n",
       "    <tr>\n",
       "      <th>11</th>\n",
       "      <td>12</td>\n",
       "      <td>ProdutoL</td>\n",
       "      <td>180</td>\n",
       "      <td>2024-02-03</td>\n",
       "    </tr>\n",
       "    <tr>\n",
       "      <th>18</th>\n",
       "      <td>19</td>\n",
       "      <td>ProdutoS</td>\n",
       "      <td>180</td>\n",
       "      <td>2024-02-10</td>\n",
       "    </tr>\n",
       "    <tr>\n",
       "      <th>21</th>\n",
       "      <td>22</td>\n",
       "      <td>ProdutoV</td>\n",
       "      <td>160</td>\n",
       "      <td>2024-02-13</td>\n",
       "    </tr>\n",
       "    <tr>\n",
       "      <th>6</th>\n",
       "      <td>7</td>\n",
       "      <td>ProdutoG</td>\n",
       "      <td>160</td>\n",
       "      <td>2024-01-29</td>\n",
       "    </tr>\n",
       "    <tr>\n",
       "      <th>15</th>\n",
       "      <td>16</td>\n",
       "      <td>ProdutoP</td>\n",
       "      <td>150</td>\n",
       "      <td>2024-02-07</td>\n",
       "    </tr>\n",
       "    <tr>\n",
       "      <th>1</th>\n",
       "      <td>2</td>\n",
       "      <td>ProdutoB</td>\n",
       "      <td>140</td>\n",
       "      <td>2024-01-24</td>\n",
       "    </tr>\n",
       "    <tr>\n",
       "      <th>25</th>\n",
       "      <td>26</td>\n",
       "      <td>ProdutoZ</td>\n",
       "      <td>140</td>\n",
       "      <td>2024-02-17</td>\n",
       "    </tr>\n",
       "    <tr>\n",
       "      <th>10</th>\n",
       "      <td>11</td>\n",
       "      <td>ProdutoK</td>\n",
       "      <td>130</td>\n",
       "      <td>2024-02-02</td>\n",
       "    </tr>\n",
       "    <tr>\n",
       "      <th>14</th>\n",
       "      <td>15</td>\n",
       "      <td>ProdutoO</td>\n",
       "      <td>120</td>\n",
       "      <td>2024-02-06</td>\n",
       "    </tr>\n",
       "    <tr>\n",
       "      <th>5</th>\n",
       "      <td>6</td>\n",
       "      <td>ProdutoF</td>\n",
       "      <td>120</td>\n",
       "      <td>2024-01-28</td>\n",
       "    </tr>\n",
       "    <tr>\n",
       "      <th>20</th>\n",
       "      <td>21</td>\n",
       "      <td>ProdutoU</td>\n",
       "      <td>120</td>\n",
       "      <td>2024-02-12</td>\n",
       "    </tr>\n",
       "    <tr>\n",
       "      <th>9</th>\n",
       "      <td>10</td>\n",
       "      <td>ProdutoJ</td>\n",
       "      <td>110</td>\n",
       "      <td>2024-02-01</td>\n",
       "    </tr>\n",
       "    <tr>\n",
       "      <th>17</th>\n",
       "      <td>18</td>\n",
       "      <td>ProdutoR</td>\n",
       "      <td>110</td>\n",
       "      <td>2024-02-09</td>\n",
       "    </tr>\n",
       "    <tr>\n",
       "      <th>24</th>\n",
       "      <td>25</td>\n",
       "      <td>ProdutoY</td>\n",
       "      <td>110</td>\n",
       "      <td>2024-02-16</td>\n",
       "    </tr>\n",
       "    <tr>\n",
       "      <th>0</th>\n",
       "      <td>1</td>\n",
       "      <td>ProdutoA</td>\n",
       "      <td>110</td>\n",
       "      <td>2024-01-23</td>\n",
       "    </tr>\n",
       "    <tr>\n",
       "      <th>12</th>\n",
       "      <td>13</td>\n",
       "      <td>ProdutoM</td>\n",
       "      <td>95</td>\n",
       "      <td>2024-02-04</td>\n",
       "    </tr>\n",
       "    <tr>\n",
       "      <th>19</th>\n",
       "      <td>20</td>\n",
       "      <td>ProdutoT</td>\n",
       "      <td>95</td>\n",
       "      <td>2024-02-11</td>\n",
       "    </tr>\n",
       "    <tr>\n",
       "      <th>4</th>\n",
       "      <td>5</td>\n",
       "      <td>ProdutoE</td>\n",
       "      <td>90</td>\n",
       "      <td>2024-01-27</td>\n",
       "    </tr>\n",
       "    <tr>\n",
       "      <th>7</th>\n",
       "      <td>8</td>\n",
       "      <td>ProdutoH</td>\n",
       "      <td>85</td>\n",
       "      <td>2024-01-30</td>\n",
       "    </tr>\n",
       "    <tr>\n",
       "      <th>22</th>\n",
       "      <td>23</td>\n",
       "      <td>ProdutoW</td>\n",
       "      <td>85</td>\n",
       "      <td>2024-02-14</td>\n",
       "    </tr>\n",
       "    <tr>\n",
       "      <th>2</th>\n",
       "      <td>3</td>\n",
       "      <td>ProdutoC</td>\n",
       "      <td>75</td>\n",
       "      <td>2024-01-25</td>\n",
       "    </tr>\n",
       "  </tbody>\n",
       "</table>\n",
       "</div>"
      ],
      "text/plain": [
       "    IdPrevisao   Produto  QuantidadePrevista DataPrevista\n",
       "13          14  ProdutoN                 240   2024-02-05\n",
       "8            9  ProdutoI                 220   2024-01-31\n",
       "23          24  ProdutoX                 200   2024-02-15\n",
       "3            4  ProdutoD                 200   2024-01-26\n",
       "16          17  ProdutoQ                 200   2024-02-08\n",
       "11          12  ProdutoL                 180   2024-02-03\n",
       "18          19  ProdutoS                 180   2024-02-10\n",
       "21          22  ProdutoV                 160   2024-02-13\n",
       "6            7  ProdutoG                 160   2024-01-29\n",
       "15          16  ProdutoP                 150   2024-02-07\n",
       "1            2  ProdutoB                 140   2024-01-24\n",
       "25          26  ProdutoZ                 140   2024-02-17\n",
       "10          11  ProdutoK                 130   2024-02-02\n",
       "14          15  ProdutoO                 120   2024-02-06\n",
       "5            6  ProdutoF                 120   2024-01-28\n",
       "20          21  ProdutoU                 120   2024-02-12\n",
       "9           10  ProdutoJ                 110   2024-02-01\n",
       "17          18  ProdutoR                 110   2024-02-09\n",
       "24          25  ProdutoY                 110   2024-02-16\n",
       "0            1  ProdutoA                 110   2024-01-23\n",
       "12          13  ProdutoM                  95   2024-02-04\n",
       "19          20  ProdutoT                  95   2024-02-11\n",
       "4            5  ProdutoE                  90   2024-01-27\n",
       "7            8  ProdutoH                  85   2024-01-30\n",
       "22          23  ProdutoW                  85   2024-02-14\n",
       "2            3  ProdutoC                  75   2024-01-25"
      ]
     },
     "metadata": {},
     "output_type": "display_data"
    }
   ],
   "source": [
    "Dados_PrevisaoVendas_QuantidadePrevista = Dados_PrevisaoVendas[Dados_PrevisaoVendas[\"QuantidadePrevista\"]>0]\n",
    "Dados_PrevisaoVendas_QuantidadePrevista = Dados_PrevisaoVendas_QuantidadePrevista.sort_values(by=\"QuantidadePrevista\", ascending=False)\n",
    "display(Dados_PrevisaoVendas_QuantidadePrevista)"
   ]
  },
  {
   "cell_type": "code",
   "execution_count": 30,
   "metadata": {},
   "outputs": [
    {
     "name": "stderr",
     "output_type": "stream",
     "text": [
      "C:\\Users\\edils\\AppData\\Local\\Temp\\ipykernel_13348\\3694470485.py:3: FutureWarning: \n",
      "\n",
      "Passing `palette` without assigning `hue` is deprecated and will be removed in v0.14.0. Assign the `x` variable to `hue` and set `legend=False` for the same effect.\n",
      "\n",
      "  sns.barplot(x='Produto', y='QuantidadePrevista', data=Dados_PrevisaoVendas_QuantidadePrevista, palette='viridis')\n"
     ]
    },
    {
     "data": {
      "image/png": "[encoded data removed]",
      "text/plain": [
       "<Figure size 3000x600 with 1 Axes>"
      ]
     },
     "metadata": {},
     "output_type": "display_data"
    }
   ],
   "source": [
    "sns.set(style=\"whitegrid\")\n",
    "plt.figure(figsize=(30, 6))\n",
    "sns.barplot(x='Produto', y='QuantidadePrevista', data=Dados_PrevisaoVendas_QuantidadePrevista, palette='viridis')\n",
    "plt.xlabel('Produto')\n",
    "plt.ylabel('Quantidade Prevista')\n",
    "plt.title('Histograma de Quantidade Prevista por Produto')\n",
    "plt.show()"
   ]
  },
  {
   "cell_type": "markdown",
   "metadata": {},
   "source": [
    "#### Pegando a média de produtos a serem vendidos"
   ]
  },
  {
   "cell_type": "code",
   "execution_count": 43,
   "metadata": {},
   "outputs": [
    {
     "name": "stdout",
     "output_type": "stream",
     "text": [
      "A média da coluna QuantidadePrevista é: 139.42307692307693\n"
     ]
    }
   ],
   "source": [
    "Dados_PrevisaoVendas_QuantidadePrevista = Dados_PrevisaoVendas[\"QuantidadePrevista\"].mean()\n",
    "print(f\"A média da coluna QuantidadePrevista é: {Dados_PrevisaoVendas_QuantidadePrevista}\")\n",
    "\n"
   ]
  },
  {
   "cell_type": "markdown",
   "metadata": {},
   "source": [
    "#### Ordenando a produção pelo dia \n",
    "Caso as informações estivessem não ordenadas"
   ]
  },
  {
   "cell_type": "code",
   "execution_count": 44,
   "metadata": {},
   "outputs": [
    {
     "name": "stdout",
     "output_type": "stream",
     "text": [
      "    IdPrevisao   Produto  QuantidadePrevista DataPrevista\n",
      "0            1  ProdutoA                 110   2024-01-23\n",
      "1            2  ProdutoB                 140   2024-01-24\n",
      "2            3  ProdutoC                  75   2024-01-25\n",
      "3            4  ProdutoD                 200   2024-01-26\n",
      "4            5  ProdutoE                  90   2024-01-27\n",
      "5            6  ProdutoF                 120   2024-01-28\n",
      "6            7  ProdutoG                 160   2024-01-29\n",
      "7            8  ProdutoH                  85   2024-01-30\n",
      "8            9  ProdutoI                 220   2024-01-31\n",
      "9           10  ProdutoJ                 110   2024-02-01\n",
      "10          11  ProdutoK                 130   2024-02-02\n",
      "11          12  ProdutoL                 180   2024-02-03\n",
      "12          13  ProdutoM                  95   2024-02-04\n",
      "13          14  ProdutoN                 240   2024-02-05\n",
      "14          15  ProdutoO                 120   2024-02-06\n",
      "15          16  ProdutoP                 150   2024-02-07\n",
      "16          17  ProdutoQ                 200   2024-02-08\n",
      "17          18  ProdutoR                 110   2024-02-09\n",
      "18          19  ProdutoS                 180   2024-02-10\n",
      "19          20  ProdutoT                  95   2024-02-11\n",
      "20          21  ProdutoU                 120   2024-02-12\n",
      "21          22  ProdutoV                 160   2024-02-13\n",
      "22          23  ProdutoW                  85   2024-02-14\n",
      "23          24  ProdutoX                 200   2024-02-15\n",
      "24          25  ProdutoY                 110   2024-02-16\n",
      "25          26  ProdutoZ                 140   2024-02-17\n"
     ]
    }
   ],
   "source": [
    "Dados_PrevisaoVendas[\"DataPrevista\"] = pd.to_datetime(Dados_PrevisaoVendas[\"DataPrevista\"])\n",
    "Dados_PrevisaoVendas_QuantidadePrevista_Ordenado = Dados_PrevisaoVendas.sort_values(by=\"DataPrevista\")\n",
    "print(Dados_PrevisaoVendas_QuantidadePrevista_Ordenado)"
   ]
  }
 ],
 "metadata": {
  "kernelspec": {
   "display_name": "Python 3",
   "language": "python",
   "name": "python3"
  },
  "language_info": {
   "codemirror_mode": {
    "name": "ipython",
    "version": 3
   },
   "file_extension": ".py",
   "mimetype": "text/x-python",
   "name": "python",
   "nbconvert_exporter": "python",
   "pygments_lexer": "ipython3",
   "version": "3.12.0"
  }
 },
 "nbformat": 4,
 "nbformat_minor": 2
}
